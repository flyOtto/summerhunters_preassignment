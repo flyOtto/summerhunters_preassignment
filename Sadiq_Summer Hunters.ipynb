{
 "cells": [
  {
   "cell_type": "markdown",
   "metadata": {},
   "source": [
    "# HoxHunt Summer Hunters 2020 - Data - Home assignment\n",
    "\n",
    "Assignment\n",
    "\n",
    "In this assignment you as a HoxHunt Data Science Hunter are given the task to extract interesting features from a possible malicious indicator of compromise, more specifically in this case from a given potentially malicious URL.\n",
    "\n",
    "This assignment assumes that you are comfortable (or quick to learn) on using Jupyter Notebooks and suitable programming enviroment such as Python, R or Julia. The example below uses Python and has some external dependencies such as Requests library.\n",
    "\n",
    "Happy hunting!\n",
    "\n",
    "Interesting research papers & resources\n",
    "\n",
    "Below is a list of interesting research papers on the topic. They might give you good tips what features you could extract from a given URL:\n",
    "\n",
    "Know Your Phish: Novel Techniques for Detecting Phishing Sites and their Targets\n",
    "\n",
    "DeltaPhish: Detecting Phishing Webpages in Compromised Websites\n",
    "\n",
    "PhishAri: Automatic Realtime Phishing Detection on Twitter\n",
    "\n",
    "More or Less? Predict the Social Influence of Malicious URLs on Social Media\n",
    "\n",
    "awesome-threat-intelligence\n",
    "\n",
    "What we expect\n",
    "\n",
    "Investigate potential features you could extract from the given URL and implement extractors for the ones that interest you the most. Below example code extracts one feature but does not store it very efficiently (just console logs it). Implement sensible data structure using some known data structure library to store the features per URL. Also consider how would you approach error handling if one feature extractor fails?\n",
    "\n",
    "Be prepared to discuss questions such as: what features could indicate the malicousness of a given URL? What goes in to the thinking of the attacker when they are choosing a site for an attack? What would you develop next?\n",
    "\n",
    "What we don't expect\n",
    "\n",
    "Implement a humangous set of features.\n",
    "\n",
    "Implement any kind of actual predicition models that uses the features to give predictions on malicousness at this stage :)\n",
    "\n"
   ]
  },
  {
   "cell_type": "code",
   "execution_count": 215,
   "metadata": {},
   "outputs": [],
   "source": [
    "#added pandas in order to save the information into dataframe\n",
    "import pandas as pd\n",
    "import requests\n",
    "import json\n",
    "from urllib.parse import urlparse"
   ]
  },
  {
   "cell_type": "code",
   "execution_count": 216,
   "metadata": {},
   "outputs": [],
   "source": [
    "def get_domain_age_in_days(domain):\n",
    "    show = \"https://input.payapi.io/v1/api/fraud/domain/age/\" + domain\n",
    "    data = requests.get(show).json()\n",
    "    return data['result'] if 'result' in data else None"
   ]
  },
  {
   "cell_type": "code",
   "execution_count": 217,
   "metadata": {},
   "outputs": [],
   "source": [
    "def parse_domain_from_url(url):\n",
    "    t = urlparse(url).netloc\n",
    "    return '.'.join(t.split('.')[-2:])\n"
   ]
  },
  {
   "cell_type": "code",
   "execution_count": 218,
   "metadata": {},
   "outputs": [],
   "source": [
    "def analyze_url(url):\n",
    "    # First feature, if domain is new it could indicate that the bad guy has bought it recently...\n",
    "    age_in_days_feature = get_domain_age_in_days(parse_domain_from_url(url));\n",
    "    # Hmm...maybe I could do something more sensible with the data than just printing out\n",
    "    print(url, age_in_days_feature)"
   ]
  },
  {
   "cell_type": "code",
   "execution_count": 219,
   "metadata": {
    "scrolled": true
   },
   "outputs": [
    {
     "ename": "SyntaxError",
     "evalue": "invalid syntax (<ipython-input-219-01ac7357dd7b>, line 11)",
     "output_type": "error",
     "traceback": [
      "\u001b[0;36m  File \u001b[0;32m\"<ipython-input-219-01ac7357dd7b>\"\u001b[0;36m, line \u001b[0;32m11\u001b[0m\n\u001b[0;31m    https://www.slideshare.net/weaveworks/client-side-monitoring-with-prometheus 4733\u001b[0m\n\u001b[0m           ^\u001b[0m\n\u001b[0;31mSyntaxError\u001b[0m\u001b[0;31m:\u001b[0m invalid syntax\n"
     ]
    }
   ],
   "source": [
    "# Note some of these urls are live phishing sites (as of 2019-03-21) use with caution! More can be found at https://www.phishtank.com/\n",
    "example_urls = [\"https://www.slideshare.net/weaveworks/client-side-monitoring-with-prometheus\",\n",
    "                \"http://cartaobndes.gov.br.cv31792.tmweb.ru/\",\n",
    "                \"https://paypal.co.uk.yatn.eu/m/\",\n",
    "                \"http://college-eisk.ru/cli/\",\n",
    "                \"https://dotpay-platnosc3.eu/dotpay/\"\n",
    "               ]\n",
    "for url in example_urls: \n",
    "    analyze_url(url)\n",
    "\n",
    "https://www.slideshare.net/weaveworks/client-side-monitoring-with-prometheus 4733\n",
    "http://cartaobndes.gov.br.cv31792.tmweb.ru/ 4647\n",
    "https://paypal.co.uk.yatn.eu/m/ None\n",
    "http://college-eisk.ru/cli/ 2715\n",
    "https://dotpay-platnosc3.eu/dotpay/ None"
   ]
  },
  {
   "cell_type": "markdown",
   "metadata": {},
   "source": [
    "The below was done manually as I did not managed to find suitable easy way of using above code to insert the information via code. Might find some API, etc. in future to fix this, but for now it served the purpose."
   ]
  },
  {
   "cell_type": "code",
   "execution_count": 220,
   "metadata": {},
   "outputs": [],
   "source": [
    "#storing data in to dataframe from example_urls above. Making dict for this purpose.\n",
    "analyzed_urls = {\"url\":[\"https://www.slideshare.net/weaveworks/client-side-monitoring-with-prometheus\",\n",
    "                              'http://cartaobndes.gov.br.cv31792.tmweb.ru/', 'https://paypal.co.uk.yatn.eu/m/',\n",
    "                              'http://college-eisk.ru/cli/', 'https://dotpay-platnosc3.eu/dotpay/'],\n",
    "                 \"age\":[ \"4733\", '4647', 'None', '2715', 'None']}"
   ]
  },
  {
   "cell_type": "code",
   "execution_count": 221,
   "metadata": {
    "scrolled": true
   },
   "outputs": [],
   "source": [
    "df=pd.DataFrame(analyzed_urls)"
   ]
  },
  {
   "cell_type": "code",
   "execution_count": 222,
   "metadata": {
    "scrolled": true
   },
   "outputs": [
    {
     "data": {
      "text/html": [
       "<div>\n",
       "<style scoped>\n",
       "    .dataframe tbody tr th:only-of-type {\n",
       "        vertical-align: middle;\n",
       "    }\n",
       "\n",
       "    .dataframe tbody tr th {\n",
       "        vertical-align: top;\n",
       "    }\n",
       "\n",
       "    .dataframe thead th {\n",
       "        text-align: right;\n",
       "    }\n",
       "</style>\n",
       "<table border=\"1\" class=\"dataframe\">\n",
       "  <thead>\n",
       "    <tr style=\"text-align: right;\">\n",
       "      <th></th>\n",
       "      <th>url</th>\n",
       "      <th>age</th>\n",
       "    </tr>\n",
       "  </thead>\n",
       "  <tbody>\n",
       "    <tr>\n",
       "      <th>0</th>\n",
       "      <td>https://www.slideshare.net/weaveworks/client-s...</td>\n",
       "      <td>4733</td>\n",
       "    </tr>\n",
       "    <tr>\n",
       "      <th>1</th>\n",
       "      <td>http://cartaobndes.gov.br.cv31792.tmweb.ru/</td>\n",
       "      <td>4647</td>\n",
       "    </tr>\n",
       "    <tr>\n",
       "      <th>2</th>\n",
       "      <td>https://paypal.co.uk.yatn.eu/m/</td>\n",
       "      <td>None</td>\n",
       "    </tr>\n",
       "    <tr>\n",
       "      <th>3</th>\n",
       "      <td>http://college-eisk.ru/cli/</td>\n",
       "      <td>2715</td>\n",
       "    </tr>\n",
       "    <tr>\n",
       "      <th>4</th>\n",
       "      <td>https://dotpay-platnosc3.eu/dotpay/</td>\n",
       "      <td>None</td>\n",
       "    </tr>\n",
       "  </tbody>\n",
       "</table>\n",
       "</div>"
      ],
      "text/plain": [
       "                                                 url   age\n",
       "0  https://www.slideshare.net/weaveworks/client-s...  4733\n",
       "1        http://cartaobndes.gov.br.cv31792.tmweb.ru/  4647\n",
       "2                    https://paypal.co.uk.yatn.eu/m/  None\n",
       "3                        http://college-eisk.ru/cli/  2715\n",
       "4                https://dotpay-platnosc3.eu/dotpay/  None"
      ]
     },
     "execution_count": 222,
     "metadata": {},
     "output_type": "execute_result"
    }
   ],
   "source": [
    "df"
   ]
  },
  {
   "cell_type": "code",
   "execution_count": 223,
   "metadata": {
    "scrolled": true
   },
   "outputs": [
    {
     "data": {
      "text/plain": [
       "0    https://www.slideshare.net/weaveworks/client-s...\n",
       "1          http://cartaobndes.gov.br.cv31792.tmweb.ru/\n",
       "2                      https://paypal.co.uk.yatn.eu/m/\n",
       "3                          http://college-eisk.ru/cli/\n",
       "4                  https://dotpay-platnosc3.eu/dotpay/\n",
       "Name: url, dtype: object"
      ]
     },
     "execution_count": 223,
     "metadata": {},
     "output_type": "execute_result"
    }
   ],
   "source": [
    "#domain lenght in url. Checking the urls\n",
    "df['url']"
   ]
  },
  {
   "cell_type": "code",
   "execution_count": 224,
   "metadata": {},
   "outputs": [],
   "source": [
    "# Adding the urllib.parse results into the dataframe.\n",
    "urls=df['url']\n",
    "df['protocol'],df['domain'],df['path'],df['query'],df['fragment'] =  zip(*[urllib.parse.urlsplit(x) for x in urls])"
   ]
  },
  {
   "cell_type": "code",
   "execution_count": 225,
   "metadata": {},
   "outputs": [
    {
     "data": {
      "text/html": [
       "<div>\n",
       "<style scoped>\n",
       "    .dataframe tbody tr th:only-of-type {\n",
       "        vertical-align: middle;\n",
       "    }\n",
       "\n",
       "    .dataframe tbody tr th {\n",
       "        vertical-align: top;\n",
       "    }\n",
       "\n",
       "    .dataframe thead th {\n",
       "        text-align: right;\n",
       "    }\n",
       "</style>\n",
       "<table border=\"1\" class=\"dataframe\">\n",
       "  <thead>\n",
       "    <tr style=\"text-align: right;\">\n",
       "      <th></th>\n",
       "      <th>url</th>\n",
       "      <th>age</th>\n",
       "      <th>protocol</th>\n",
       "      <th>domain</th>\n",
       "      <th>path</th>\n",
       "      <th>query</th>\n",
       "      <th>fragment</th>\n",
       "    </tr>\n",
       "  </thead>\n",
       "  <tbody>\n",
       "    <tr>\n",
       "      <th>0</th>\n",
       "      <td>https://www.slideshare.net/weaveworks/client-s...</td>\n",
       "      <td>4733</td>\n",
       "      <td>https</td>\n",
       "      <td>www.slideshare.net</td>\n",
       "      <td>/weaveworks/client-side-monitoring-with-promet...</td>\n",
       "      <td></td>\n",
       "      <td></td>\n",
       "    </tr>\n",
       "    <tr>\n",
       "      <th>1</th>\n",
       "      <td>http://cartaobndes.gov.br.cv31792.tmweb.ru/</td>\n",
       "      <td>4647</td>\n",
       "      <td>http</td>\n",
       "      <td>cartaobndes.gov.br.cv31792.tmweb.ru</td>\n",
       "      <td>/</td>\n",
       "      <td></td>\n",
       "      <td></td>\n",
       "    </tr>\n",
       "    <tr>\n",
       "      <th>2</th>\n",
       "      <td>https://paypal.co.uk.yatn.eu/m/</td>\n",
       "      <td>None</td>\n",
       "      <td>https</td>\n",
       "      <td>paypal.co.uk.yatn.eu</td>\n",
       "      <td>/m/</td>\n",
       "      <td></td>\n",
       "      <td></td>\n",
       "    </tr>\n",
       "    <tr>\n",
       "      <th>3</th>\n",
       "      <td>http://college-eisk.ru/cli/</td>\n",
       "      <td>2715</td>\n",
       "      <td>http</td>\n",
       "      <td>college-eisk.ru</td>\n",
       "      <td>/cli/</td>\n",
       "      <td></td>\n",
       "      <td></td>\n",
       "    </tr>\n",
       "    <tr>\n",
       "      <th>4</th>\n",
       "      <td>https://dotpay-platnosc3.eu/dotpay/</td>\n",
       "      <td>None</td>\n",
       "      <td>https</td>\n",
       "      <td>dotpay-platnosc3.eu</td>\n",
       "      <td>/dotpay/</td>\n",
       "      <td></td>\n",
       "      <td></td>\n",
       "    </tr>\n",
       "  </tbody>\n",
       "</table>\n",
       "</div>"
      ],
      "text/plain": [
       "                                                 url   age protocol  \\\n",
       "0  https://www.slideshare.net/weaveworks/client-s...  4733    https   \n",
       "1        http://cartaobndes.gov.br.cv31792.tmweb.ru/  4647     http   \n",
       "2                    https://paypal.co.uk.yatn.eu/m/  None    https   \n",
       "3                        http://college-eisk.ru/cli/  2715     http   \n",
       "4                https://dotpay-platnosc3.eu/dotpay/  None    https   \n",
       "\n",
       "                                domain  \\\n",
       "0                   www.slideshare.net   \n",
       "1  cartaobndes.gov.br.cv31792.tmweb.ru   \n",
       "2                 paypal.co.uk.yatn.eu   \n",
       "3                      college-eisk.ru   \n",
       "4                  dotpay-platnosc3.eu   \n",
       "\n",
       "                                                path query fragment  \n",
       "0  /weaveworks/client-side-monitoring-with-promet...                 \n",
       "1                                                  /                 \n",
       "2                                                /m/                 \n",
       "3                                              /cli/                 \n",
       "4                                           /dotpay/                 "
      ]
     },
     "execution_count": 225,
     "metadata": {},
     "output_type": "execute_result"
    }
   ],
   "source": [
    "df"
   ]
  },
  {
   "cell_type": "code",
   "execution_count": 226,
   "metadata": {},
   "outputs": [],
   "source": [
    "# I created a new column for len \n",
    "# passing values through str.len() by using Pandas str.len() method \n",
    "# My thought was to apply https://hcis-journal.springeropen.com/articles/10.1186/s13673-016-0064-3 \n",
    "# results on approx url length to identify possible malicious url\n",
    "df[\"url_lenght\"]= df[\"domain\"].str.len() "
   ]
  },
  {
   "cell_type": "code",
   "execution_count": 227,
   "metadata": {
    "scrolled": false
   },
   "outputs": [
    {
     "data": {
      "text/html": [
       "<div>\n",
       "<style scoped>\n",
       "    .dataframe tbody tr th:only-of-type {\n",
       "        vertical-align: middle;\n",
       "    }\n",
       "\n",
       "    .dataframe tbody tr th {\n",
       "        vertical-align: top;\n",
       "    }\n",
       "\n",
       "    .dataframe thead th {\n",
       "        text-align: right;\n",
       "    }\n",
       "</style>\n",
       "<table border=\"1\" class=\"dataframe\">\n",
       "  <thead>\n",
       "    <tr style=\"text-align: right;\">\n",
       "      <th></th>\n",
       "      <th>url</th>\n",
       "      <th>age</th>\n",
       "      <th>protocol</th>\n",
       "      <th>domain</th>\n",
       "      <th>path</th>\n",
       "      <th>query</th>\n",
       "      <th>fragment</th>\n",
       "      <th>url_lenght</th>\n",
       "    </tr>\n",
       "  </thead>\n",
       "  <tbody>\n",
       "    <tr>\n",
       "      <th>0</th>\n",
       "      <td>https://www.slideshare.net/weaveworks/client-s...</td>\n",
       "      <td>4733</td>\n",
       "      <td>https</td>\n",
       "      <td>www.slideshare.net</td>\n",
       "      <td>/weaveworks/client-side-monitoring-with-promet...</td>\n",
       "      <td></td>\n",
       "      <td></td>\n",
       "      <td>18</td>\n",
       "    </tr>\n",
       "    <tr>\n",
       "      <th>1</th>\n",
       "      <td>http://cartaobndes.gov.br.cv31792.tmweb.ru/</td>\n",
       "      <td>4647</td>\n",
       "      <td>http</td>\n",
       "      <td>cartaobndes.gov.br.cv31792.tmweb.ru</td>\n",
       "      <td>/</td>\n",
       "      <td></td>\n",
       "      <td></td>\n",
       "      <td>35</td>\n",
       "    </tr>\n",
       "    <tr>\n",
       "      <th>2</th>\n",
       "      <td>https://paypal.co.uk.yatn.eu/m/</td>\n",
       "      <td>None</td>\n",
       "      <td>https</td>\n",
       "      <td>paypal.co.uk.yatn.eu</td>\n",
       "      <td>/m/</td>\n",
       "      <td></td>\n",
       "      <td></td>\n",
       "      <td>20</td>\n",
       "    </tr>\n",
       "    <tr>\n",
       "      <th>3</th>\n",
       "      <td>http://college-eisk.ru/cli/</td>\n",
       "      <td>2715</td>\n",
       "      <td>http</td>\n",
       "      <td>college-eisk.ru</td>\n",
       "      <td>/cli/</td>\n",
       "      <td></td>\n",
       "      <td></td>\n",
       "      <td>15</td>\n",
       "    </tr>\n",
       "    <tr>\n",
       "      <th>4</th>\n",
       "      <td>https://dotpay-platnosc3.eu/dotpay/</td>\n",
       "      <td>None</td>\n",
       "      <td>https</td>\n",
       "      <td>dotpay-platnosc3.eu</td>\n",
       "      <td>/dotpay/</td>\n",
       "      <td></td>\n",
       "      <td></td>\n",
       "      <td>19</td>\n",
       "    </tr>\n",
       "  </tbody>\n",
       "</table>\n",
       "</div>"
      ],
      "text/plain": [
       "                                                 url   age protocol  \\\n",
       "0  https://www.slideshare.net/weaveworks/client-s...  4733    https   \n",
       "1        http://cartaobndes.gov.br.cv31792.tmweb.ru/  4647     http   \n",
       "2                    https://paypal.co.uk.yatn.eu/m/  None    https   \n",
       "3                        http://college-eisk.ru/cli/  2715     http   \n",
       "4                https://dotpay-platnosc3.eu/dotpay/  None    https   \n",
       "\n",
       "                                domain  \\\n",
       "0                   www.slideshare.net   \n",
       "1  cartaobndes.gov.br.cv31792.tmweb.ru   \n",
       "2                 paypal.co.uk.yatn.eu   \n",
       "3                      college-eisk.ru   \n",
       "4                  dotpay-platnosc3.eu   \n",
       "\n",
       "                                                path query fragment  \\\n",
       "0  /weaveworks/client-side-monitoring-with-promet...                  \n",
       "1                                                  /                  \n",
       "2                                                /m/                  \n",
       "3                                              /cli/                  \n",
       "4                                           /dotpay/                  \n",
       "\n",
       "   url_lenght  \n",
       "0          18  \n",
       "1          35  \n",
       "2          20  \n",
       "3          15  \n",
       "4          19  "
      ]
     },
     "execution_count": 227,
     "metadata": {},
     "output_type": "execute_result"
    }
   ],
   "source": [
    "df"
   ]
  },
  {
   "cell_type": "code",
   "execution_count": 228,
   "metadata": {},
   "outputs": [
    {
     "data": {
      "text/plain": [
       "0    18\n",
       "1    35\n",
       "2    20\n",
       "3    15\n",
       "4    19\n",
       "Name: url_lenght, dtype: int64"
      ]
     },
     "execution_count": 228,
     "metadata": {},
     "output_type": "execute_result"
    }
   ],
   "source": [
    "df['url_lenght']"
   ]
  },
  {
   "cell_type": "code",
   "execution_count": 229,
   "metadata": {},
   "outputs": [
    {
     "name": "stdout",
     "output_type": "stream",
     "text": [
      "                                                 url   age protocol  \\\n",
      "0  https://www.slideshare.net/weaveworks/client-s...  4733    https   \n",
      "1        http://cartaobndes.gov.br.cv31792.tmweb.ru/  4647     http   \n",
      "2                    https://paypal.co.uk.yatn.eu/m/  None    https   \n",
      "3                        http://college-eisk.ru/cli/  2715     http   \n",
      "4                https://dotpay-platnosc3.eu/dotpay/  None    https   \n",
      "\n",
      "                                domain  \\\n",
      "0                   www.slideshare.net   \n",
      "1  cartaobndes.gov.br.cv31792.tmweb.ru   \n",
      "2                 paypal.co.uk.yatn.eu   \n",
      "3                      college-eisk.ru   \n",
      "4                  dotpay-platnosc3.eu   \n",
      "\n",
      "                                                path query fragment  \\\n",
      "0  /weaveworks/client-side-monitoring-with-promet...                  \n",
      "1                                                  /                  \n",
      "2                                                /m/                  \n",
      "3                                              /cli/                  \n",
      "4                                           /dotpay/                  \n",
      "\n",
      "   url_lenght equal_or_higher_than_25?  \n",
      "0          18                    False  \n",
      "1          35                     True  \n",
      "2          20                    False  \n",
      "3          15                    False  \n",
      "4          19                    False  \n"
     ]
    }
   ],
   "source": [
    "#check the once that are over 25 (check the link for more information), can be done other way as well.\n",
    "df['equal_or_higher_than_25?'] = df['url_lenght'].apply(lambda x: 'True' if x >= 25 else 'False')\n",
    "#The result indicates some having dupious lenght of domain name. Clearly not a strong indicator here.\n",
    "print (df)"
   ]
  },
  {
   "cell_type": "markdown",
   "metadata": {},
   "source": [
    "At this point, I would extend the above analyze to other indicators, such as number of dots, slashes, host names, etc. \n",
    "\n",
    "One of the things I would take into consideration is redirecting URLs, which is also used by attackers. For this I would take a look how this could be verified, that the directed page is not suspicious. \n",
    "\n",
    "For Error handling: Try-Except-else Clause. For Urllib there used to be urllib.error, but nowadays requests is recommended way of handling errors."
   ]
  }
 ],
 "metadata": {
  "kernelspec": {
   "display_name": "Python 3",
   "language": "python",
   "name": "python3"
  },
  "language_info": {
   "codemirror_mode": {
    "name": "ipython",
    "version": 3
   },
   "file_extension": ".py",
   "mimetype": "text/x-python",
   "name": "python",
   "nbconvert_exporter": "python",
   "pygments_lexer": "ipython3",
   "version": "3.7.5"
  }
 },
 "nbformat": 4,
 "nbformat_minor": 2
}
